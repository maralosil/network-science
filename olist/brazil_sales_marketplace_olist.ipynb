{
 "cells": [
  {
   "cell_type": "markdown",
   "id": "1089f393",
   "metadata": {},
   "source": [
    "# Brazil sales marketplace (Olist)"
   ]
  },
  {
   "cell_type": "markdown",
   "id": "3dc003bf",
   "metadata": {},
   "source": [
    "## About Olist\n",
    "\n",
    "Olist is a Brazilian startup that operates in the e-commerce segment, mainly through the marketplace.\n",
    "\n",
    "On the one hand, the olist concentrates sellers who want to advertise on marketplaces such as Mercado Livre, B2W, Via Varejo and Amazon. On the other hand, concentrate the products of all sellers in a single store that is visible to the end consumer."
   ]
  },
  {
   "cell_type": "markdown",
   "id": "5a65b8d7",
   "metadata": {},
   "source": [
    "## About the dataset\n",
    "\n",
    "This is a Brazilian ecommerce public dataset of orders made at Olist Store. The dataset has information of 100k orders from 2016 to 2018 made at multiple marketplaces in Brazil. Its features allows viewing an order from multiple dimensions: from order status, price, payment and freight performance to customer location, product attributes and finally reviews written by customers. "
   ]
  },
  {
   "cell_type": "markdown",
   "id": "7a6c7af4",
   "metadata": {},
   "source": [
    "## Questions\n",
    "\n",
    " - Which state and product category generated the highest average profit for the marketplace between 2016 and 2018?\n",
    " - Which state and product category generated the lowest average profit for this marketplace between 2016 and 2018?\n",
    " - Is the profit proportional to the population of the state? "
   ]
  },
  {
   "cell_type": "markdown",
   "id": "094dd405",
   "metadata": {},
   "source": [
    "## Notebook objective\n",
    "* Creating a dataframe with state, product category, sum of all sales of each product and mean population of each state"
   ]
  },
  {
   "cell_type": "markdown",
   "id": "b1d54401",
   "metadata": {},
   "source": [
    "# Importing the libraries"
   ]
  },
  {
   "cell_type": "code",
   "execution_count": 1,
   "id": "6546f515",
   "metadata": {},
   "outputs": [],
   "source": [
    "import pandas as pd\n",
    "import warnings\n",
    "warnings.filterwarnings(\"ignore\")"
   ]
  },
  {
   "cell_type": "markdown",
   "id": "b2cf0e37",
   "metadata": {},
   "source": [
    "# Importing the datasets from Kaggle\n",
    "https://www.kaggle.com/datasets/olistbr/brazilian-ecommerce\n",
    "\n",
    "* Items dataset\n",
    "* Orders dataset\n",
    "* Products dataset"
   ]
  },
  {
   "cell_type": "code",
   "execution_count": 2,
   "id": "a1597be4",
   "metadata": {},
   "outputs": [],
   "source": [
    "items = pd.read_csv('datasets/olist_order_items_dataset.csv')\n",
    "orders = pd.read_csv('datasets/olist_orders_dataset.csv')\n",
    "products = pd.read_csv('datasets/olist_products_dataset.csv')"
   ]
  },
  {
   "cell_type": "markdown",
   "id": "bf4f5b1c",
   "metadata": {},
   "source": [
    "## Items dataset"
   ]
  },
  {
   "cell_type": "code",
   "execution_count": 3,
   "id": "2a3119d6",
   "metadata": {
    "scrolled": true
   },
   "outputs": [
    {
     "data": {
      "text/html": [
       "<div>\n",
       "<style scoped>\n",
       "    .dataframe tbody tr th:only-of-type {\n",
       "        vertical-align: middle;\n",
       "    }\n",
       "\n",
       "    .dataframe tbody tr th {\n",
       "        vertical-align: top;\n",
       "    }\n",
       "\n",
       "    .dataframe thead th {\n",
       "        text-align: right;\n",
       "    }\n",
       "</style>\n",
       "<table border=\"1\" class=\"dataframe\">\n",
       "  <thead>\n",
       "    <tr style=\"text-align: right;\">\n",
       "      <th></th>\n",
       "      <th>order_id</th>\n",
       "      <th>order_item_id</th>\n",
       "      <th>product_id</th>\n",
       "      <th>seller_id</th>\n",
       "      <th>shipping_limit_date</th>\n",
       "      <th>price</th>\n",
       "      <th>freight_value</th>\n",
       "    </tr>\n",
       "  </thead>\n",
       "  <tbody>\n",
       "    <tr>\n",
       "      <th>0</th>\n",
       "      <td>00010242fe8c5a6d1ba2dd792cb16214</td>\n",
       "      <td>1</td>\n",
       "      <td>4244733e06e7ecb4970a6e2683c13e61</td>\n",
       "      <td>48436dade18ac8b2bce089ec2a041202</td>\n",
       "      <td>2017-09-19 09:45:35</td>\n",
       "      <td>58.90</td>\n",
       "      <td>13.29</td>\n",
       "    </tr>\n",
       "    <tr>\n",
       "      <th>1</th>\n",
       "      <td>00018f77f2f0320c557190d7a144bdd3</td>\n",
       "      <td>1</td>\n",
       "      <td>e5f2d52b802189ee658865ca93d83a8f</td>\n",
       "      <td>dd7ddc04e1b6c2c614352b383efe2d36</td>\n",
       "      <td>2017-05-03 11:05:13</td>\n",
       "      <td>239.90</td>\n",
       "      <td>19.93</td>\n",
       "    </tr>\n",
       "    <tr>\n",
       "      <th>2</th>\n",
       "      <td>000229ec398224ef6ca0657da4fc703e</td>\n",
       "      <td>1</td>\n",
       "      <td>c777355d18b72b67abbeef9df44fd0fd</td>\n",
       "      <td>5b51032eddd242adc84c38acab88f23d</td>\n",
       "      <td>2018-01-18 14:48:30</td>\n",
       "      <td>199.00</td>\n",
       "      <td>17.87</td>\n",
       "    </tr>\n",
       "    <tr>\n",
       "      <th>3</th>\n",
       "      <td>00024acbcdf0a6daa1e931b038114c75</td>\n",
       "      <td>1</td>\n",
       "      <td>7634da152a4610f1595efa32f14722fc</td>\n",
       "      <td>9d7a1d34a5052409006425275ba1c2b4</td>\n",
       "      <td>2018-08-15 10:10:18</td>\n",
       "      <td>12.99</td>\n",
       "      <td>12.79</td>\n",
       "    </tr>\n",
       "    <tr>\n",
       "      <th>4</th>\n",
       "      <td>00042b26cf59d7ce69dfabb4e55b4fd9</td>\n",
       "      <td>1</td>\n",
       "      <td>ac6c3623068f30de03045865e4e10089</td>\n",
       "      <td>df560393f3a51e74553ab94004ba5c87</td>\n",
       "      <td>2017-02-13 13:57:51</td>\n",
       "      <td>199.90</td>\n",
       "      <td>18.14</td>\n",
       "    </tr>\n",
       "  </tbody>\n",
       "</table>\n",
       "</div>"
      ],
      "text/plain": [
       "                           order_id  order_item_id  \\\n",
       "0  00010242fe8c5a6d1ba2dd792cb16214              1   \n",
       "1  00018f77f2f0320c557190d7a144bdd3              1   \n",
       "2  000229ec398224ef6ca0657da4fc703e              1   \n",
       "3  00024acbcdf0a6daa1e931b038114c75              1   \n",
       "4  00042b26cf59d7ce69dfabb4e55b4fd9              1   \n",
       "\n",
       "                         product_id                         seller_id  \\\n",
       "0  4244733e06e7ecb4970a6e2683c13e61  48436dade18ac8b2bce089ec2a041202   \n",
       "1  e5f2d52b802189ee658865ca93d83a8f  dd7ddc04e1b6c2c614352b383efe2d36   \n",
       "2  c777355d18b72b67abbeef9df44fd0fd  5b51032eddd242adc84c38acab88f23d   \n",
       "3  7634da152a4610f1595efa32f14722fc  9d7a1d34a5052409006425275ba1c2b4   \n",
       "4  ac6c3623068f30de03045865e4e10089  df560393f3a51e74553ab94004ba5c87   \n",
       "\n",
       "   shipping_limit_date   price  freight_value  \n",
       "0  2017-09-19 09:45:35   58.90          13.29  \n",
       "1  2017-05-03 11:05:13  239.90          19.93  \n",
       "2  2018-01-18 14:48:30  199.00          17.87  \n",
       "3  2018-08-15 10:10:18   12.99          12.79  \n",
       "4  2017-02-13 13:57:51  199.90          18.14  "
      ]
     },
     "execution_count": 3,
     "metadata": {},
     "output_type": "execute_result"
    }
   ],
   "source": [
    "items.head()"
   ]
  },
  {
   "cell_type": "code",
   "execution_count": 4,
   "id": "ef0c725e",
   "metadata": {},
   "outputs": [
    {
     "name": "stdout",
     "output_type": "stream",
     "text": [
      "Items dataset\n",
      "Lines: 112650\n",
      "Columns: 7\n"
     ]
    }
   ],
   "source": [
    "print('Items dataset')\n",
    "print('Lines:', items.shape[0])\n",
    "print('Columns:', items.shape[1])"
   ]
  },
  {
   "cell_type": "code",
   "execution_count": 5,
   "id": "b0194696",
   "metadata": {},
   "outputs": [
    {
     "data": {
      "text/html": [
       "<div>\n",
       "<style scoped>\n",
       "    .dataframe tbody tr th:only-of-type {\n",
       "        vertical-align: middle;\n",
       "    }\n",
       "\n",
       "    .dataframe tbody tr th {\n",
       "        vertical-align: top;\n",
       "    }\n",
       "\n",
       "    .dataframe thead th {\n",
       "        text-align: right;\n",
       "    }\n",
       "</style>\n",
       "<table border=\"1\" class=\"dataframe\">\n",
       "  <thead>\n",
       "    <tr style=\"text-align: right;\">\n",
       "      <th></th>\n",
       "      <th>order_id</th>\n",
       "      <th>product_id</th>\n",
       "      <th>price</th>\n",
       "    </tr>\n",
       "  </thead>\n",
       "  <tbody>\n",
       "    <tr>\n",
       "      <th>0</th>\n",
       "      <td>00010242fe8c5a6d1ba2dd792cb16214</td>\n",
       "      <td>4244733e06e7ecb4970a6e2683c13e61</td>\n",
       "      <td>58.90</td>\n",
       "    </tr>\n",
       "    <tr>\n",
       "      <th>1</th>\n",
       "      <td>00018f77f2f0320c557190d7a144bdd3</td>\n",
       "      <td>e5f2d52b802189ee658865ca93d83a8f</td>\n",
       "      <td>239.90</td>\n",
       "    </tr>\n",
       "    <tr>\n",
       "      <th>2</th>\n",
       "      <td>000229ec398224ef6ca0657da4fc703e</td>\n",
       "      <td>c777355d18b72b67abbeef9df44fd0fd</td>\n",
       "      <td>199.00</td>\n",
       "    </tr>\n",
       "    <tr>\n",
       "      <th>3</th>\n",
       "      <td>00024acbcdf0a6daa1e931b038114c75</td>\n",
       "      <td>7634da152a4610f1595efa32f14722fc</td>\n",
       "      <td>12.99</td>\n",
       "    </tr>\n",
       "    <tr>\n",
       "      <th>4</th>\n",
       "      <td>00042b26cf59d7ce69dfabb4e55b4fd9</td>\n",
       "      <td>ac6c3623068f30de03045865e4e10089</td>\n",
       "      <td>199.90</td>\n",
       "    </tr>\n",
       "  </tbody>\n",
       "</table>\n",
       "</div>"
      ],
      "text/plain": [
       "                           order_id                        product_id   price\n",
       "0  00010242fe8c5a6d1ba2dd792cb16214  4244733e06e7ecb4970a6e2683c13e61   58.90\n",
       "1  00018f77f2f0320c557190d7a144bdd3  e5f2d52b802189ee658865ca93d83a8f  239.90\n",
       "2  000229ec398224ef6ca0657da4fc703e  c777355d18b72b67abbeef9df44fd0fd  199.00\n",
       "3  00024acbcdf0a6daa1e931b038114c75  7634da152a4610f1595efa32f14722fc   12.99\n",
       "4  00042b26cf59d7ce69dfabb4e55b4fd9  ac6c3623068f30de03045865e4e10089  199.90"
      ]
     },
     "execution_count": 5,
     "metadata": {},
     "output_type": "execute_result"
    }
   ],
   "source": [
    "## Filtering columns order_id, product_id and price\n",
    "\n",
    "items = items.loc[:, ['order_id','product_id','price']]\n",
    "items.head()"
   ]
  },
  {
   "cell_type": "markdown",
   "id": "ce785bc9",
   "metadata": {},
   "source": [
    "## Orders dataset"
   ]
  },
  {
   "cell_type": "code",
   "execution_count": 6,
   "id": "aa549394",
   "metadata": {},
   "outputs": [
    {
     "data": {
      "text/html": [
       "<div>\n",
       "<style scoped>\n",
       "    .dataframe tbody tr th:only-of-type {\n",
       "        vertical-align: middle;\n",
       "    }\n",
       "\n",
       "    .dataframe tbody tr th {\n",
       "        vertical-align: top;\n",
       "    }\n",
       "\n",
       "    .dataframe thead th {\n",
       "        text-align: right;\n",
       "    }\n",
       "</style>\n",
       "<table border=\"1\" class=\"dataframe\">\n",
       "  <thead>\n",
       "    <tr style=\"text-align: right;\">\n",
       "      <th></th>\n",
       "      <th>order_id</th>\n",
       "      <th>customer_id</th>\n",
       "      <th>order_status</th>\n",
       "      <th>order_purchase_timestamp</th>\n",
       "      <th>order_approved_at</th>\n",
       "      <th>order_delivered_carrier_date</th>\n",
       "      <th>order_delivered_customer_date</th>\n",
       "      <th>order_estimated_delivery_date</th>\n",
       "    </tr>\n",
       "  </thead>\n",
       "  <tbody>\n",
       "    <tr>\n",
       "      <th>0</th>\n",
       "      <td>e481f51cbdc54678b7cc49136f2d6af7</td>\n",
       "      <td>9ef432eb6251297304e76186b10a928d</td>\n",
       "      <td>delivered</td>\n",
       "      <td>2017-10-02 10:56:33</td>\n",
       "      <td>2017-10-02 11:07:15</td>\n",
       "      <td>2017-10-04 19:55:00</td>\n",
       "      <td>2017-10-10 21:25:13</td>\n",
       "      <td>2017-10-18 00:00:00</td>\n",
       "    </tr>\n",
       "    <tr>\n",
       "      <th>1</th>\n",
       "      <td>53cdb2fc8bc7dce0b6741e2150273451</td>\n",
       "      <td>b0830fb4747a6c6d20dea0b8c802d7ef</td>\n",
       "      <td>delivered</td>\n",
       "      <td>2018-07-24 20:41:37</td>\n",
       "      <td>2018-07-26 03:24:27</td>\n",
       "      <td>2018-07-26 14:31:00</td>\n",
       "      <td>2018-08-07 15:27:45</td>\n",
       "      <td>2018-08-13 00:00:00</td>\n",
       "    </tr>\n",
       "    <tr>\n",
       "      <th>2</th>\n",
       "      <td>47770eb9100c2d0c44946d9cf07ec65d</td>\n",
       "      <td>41ce2a54c0b03bf3443c3d931a367089</td>\n",
       "      <td>delivered</td>\n",
       "      <td>2018-08-08 08:38:49</td>\n",
       "      <td>2018-08-08 08:55:23</td>\n",
       "      <td>2018-08-08 13:50:00</td>\n",
       "      <td>2018-08-17 18:06:29</td>\n",
       "      <td>2018-09-04 00:00:00</td>\n",
       "    </tr>\n",
       "    <tr>\n",
       "      <th>3</th>\n",
       "      <td>949d5b44dbf5de918fe9c16f97b45f8a</td>\n",
       "      <td>f88197465ea7920adcdbec7375364d82</td>\n",
       "      <td>delivered</td>\n",
       "      <td>2017-11-18 19:28:06</td>\n",
       "      <td>2017-11-18 19:45:59</td>\n",
       "      <td>2017-11-22 13:39:59</td>\n",
       "      <td>2017-12-02 00:28:42</td>\n",
       "      <td>2017-12-15 00:00:00</td>\n",
       "    </tr>\n",
       "    <tr>\n",
       "      <th>4</th>\n",
       "      <td>ad21c59c0840e6cb83a9ceb5573f8159</td>\n",
       "      <td>8ab97904e6daea8866dbdbc4fb7aad2c</td>\n",
       "      <td>delivered</td>\n",
       "      <td>2018-02-13 21:18:39</td>\n",
       "      <td>2018-02-13 22:20:29</td>\n",
       "      <td>2018-02-14 19:46:34</td>\n",
       "      <td>2018-02-16 18:17:02</td>\n",
       "      <td>2018-02-26 00:00:00</td>\n",
       "    </tr>\n",
       "  </tbody>\n",
       "</table>\n",
       "</div>"
      ],
      "text/plain": [
       "                           order_id                       customer_id  \\\n",
       "0  e481f51cbdc54678b7cc49136f2d6af7  9ef432eb6251297304e76186b10a928d   \n",
       "1  53cdb2fc8bc7dce0b6741e2150273451  b0830fb4747a6c6d20dea0b8c802d7ef   \n",
       "2  47770eb9100c2d0c44946d9cf07ec65d  41ce2a54c0b03bf3443c3d931a367089   \n",
       "3  949d5b44dbf5de918fe9c16f97b45f8a  f88197465ea7920adcdbec7375364d82   \n",
       "4  ad21c59c0840e6cb83a9ceb5573f8159  8ab97904e6daea8866dbdbc4fb7aad2c   \n",
       "\n",
       "  order_status order_purchase_timestamp    order_approved_at  \\\n",
       "0    delivered      2017-10-02 10:56:33  2017-10-02 11:07:15   \n",
       "1    delivered      2018-07-24 20:41:37  2018-07-26 03:24:27   \n",
       "2    delivered      2018-08-08 08:38:49  2018-08-08 08:55:23   \n",
       "3    delivered      2017-11-18 19:28:06  2017-11-18 19:45:59   \n",
       "4    delivered      2018-02-13 21:18:39  2018-02-13 22:20:29   \n",
       "\n",
       "  order_delivered_carrier_date order_delivered_customer_date  \\\n",
       "0          2017-10-04 19:55:00           2017-10-10 21:25:13   \n",
       "1          2018-07-26 14:31:00           2018-08-07 15:27:45   \n",
       "2          2018-08-08 13:50:00           2018-08-17 18:06:29   \n",
       "3          2017-11-22 13:39:59           2017-12-02 00:28:42   \n",
       "4          2018-02-14 19:46:34           2018-02-16 18:17:02   \n",
       "\n",
       "  order_estimated_delivery_date  \n",
       "0           2017-10-18 00:00:00  \n",
       "1           2018-08-13 00:00:00  \n",
       "2           2018-09-04 00:00:00  \n",
       "3           2017-12-15 00:00:00  \n",
       "4           2018-02-26 00:00:00  "
      ]
     },
     "execution_count": 6,
     "metadata": {},
     "output_type": "execute_result"
    }
   ],
   "source": [
    "orders.head()"
   ]
  },
  {
   "cell_type": "code",
   "execution_count": 7,
   "id": "5c62b10c",
   "metadata": {},
   "outputs": [
    {
     "name": "stdout",
     "output_type": "stream",
     "text": [
      "Orders dataset\n",
      "Lines: 99441\n",
      "Columns: 8\n"
     ]
    }
   ],
   "source": [
    "print('Orders dataset')\n",
    "print('Lines:', orders.shape[0])\n",
    "print('Columns:', orders.shape[1])"
   ]
  },
  {
   "cell_type": "code",
   "execution_count": 8,
   "id": "42101e8b",
   "metadata": {},
   "outputs": [
    {
     "data": {
      "text/plain": [
       "delivered      96478\n",
       "shipped         1107\n",
       "canceled         625\n",
       "unavailable      609\n",
       "invoiced         314\n",
       "processing       301\n",
       "created            5\n",
       "approved           2\n",
       "Name: order_status, dtype: int64"
      ]
     },
     "execution_count": 8,
     "metadata": {},
     "output_type": "execute_result"
    }
   ],
   "source": [
    "## Order status\n",
    "\n",
    "orders.order_status.value_counts()"
   ]
  },
  {
   "cell_type": "code",
   "execution_count": 9,
   "id": "cca77141",
   "metadata": {},
   "outputs": [],
   "source": [
    "## Fitering only the delivered orders\n",
    "\n",
    "orders = orders[orders.order_status == 'delivered']"
   ]
  },
  {
   "cell_type": "code",
   "execution_count": 10,
   "id": "a62c6a5b",
   "metadata": {
    "scrolled": true
   },
   "outputs": [
    {
     "name": "stdout",
     "output_type": "stream",
     "text": [
      "Orders dataset\n",
      "Lines: 96478\n",
      "Columns: 8\n"
     ]
    }
   ],
   "source": [
    "print('Orders dataset')\n",
    "print('Lines:', orders.shape[0])\n",
    "print('Columns:', orders.shape[1])"
   ]
  },
  {
   "cell_type": "code",
   "execution_count": 11,
   "id": "2ad84790",
   "metadata": {},
   "outputs": [
    {
     "data": {
      "text/html": [
       "<div>\n",
       "<style scoped>\n",
       "    .dataframe tbody tr th:only-of-type {\n",
       "        vertical-align: middle;\n",
       "    }\n",
       "\n",
       "    .dataframe tbody tr th {\n",
       "        vertical-align: top;\n",
       "    }\n",
       "\n",
       "    .dataframe thead th {\n",
       "        text-align: right;\n",
       "    }\n",
       "</style>\n",
       "<table border=\"1\" class=\"dataframe\">\n",
       "  <thead>\n",
       "    <tr style=\"text-align: right;\">\n",
       "      <th></th>\n",
       "      <th>order_id</th>\n",
       "      <th>customer_id</th>\n",
       "    </tr>\n",
       "  </thead>\n",
       "  <tbody>\n",
       "    <tr>\n",
       "      <th>0</th>\n",
       "      <td>e481f51cbdc54678b7cc49136f2d6af7</td>\n",
       "      <td>9ef432eb6251297304e76186b10a928d</td>\n",
       "    </tr>\n",
       "    <tr>\n",
       "      <th>1</th>\n",
       "      <td>53cdb2fc8bc7dce0b6741e2150273451</td>\n",
       "      <td>b0830fb4747a6c6d20dea0b8c802d7ef</td>\n",
       "    </tr>\n",
       "    <tr>\n",
       "      <th>2</th>\n",
       "      <td>47770eb9100c2d0c44946d9cf07ec65d</td>\n",
       "      <td>41ce2a54c0b03bf3443c3d931a367089</td>\n",
       "    </tr>\n",
       "    <tr>\n",
       "      <th>3</th>\n",
       "      <td>949d5b44dbf5de918fe9c16f97b45f8a</td>\n",
       "      <td>f88197465ea7920adcdbec7375364d82</td>\n",
       "    </tr>\n",
       "    <tr>\n",
       "      <th>4</th>\n",
       "      <td>ad21c59c0840e6cb83a9ceb5573f8159</td>\n",
       "      <td>8ab97904e6daea8866dbdbc4fb7aad2c</td>\n",
       "    </tr>\n",
       "  </tbody>\n",
       "</table>\n",
       "</div>"
      ],
      "text/plain": [
       "                           order_id                       customer_id\n",
       "0  e481f51cbdc54678b7cc49136f2d6af7  9ef432eb6251297304e76186b10a928d\n",
       "1  53cdb2fc8bc7dce0b6741e2150273451  b0830fb4747a6c6d20dea0b8c802d7ef\n",
       "2  47770eb9100c2d0c44946d9cf07ec65d  41ce2a54c0b03bf3443c3d931a367089\n",
       "3  949d5b44dbf5de918fe9c16f97b45f8a  f88197465ea7920adcdbec7375364d82\n",
       "4  ad21c59c0840e6cb83a9ceb5573f8159  8ab97904e6daea8866dbdbc4fb7aad2c"
      ]
     },
     "execution_count": 11,
     "metadata": {},
     "output_type": "execute_result"
    }
   ],
   "source": [
    "## Filtering columns order_id and customer_id\n",
    "\n",
    "orders = orders.loc[:, ['order_id','customer_id']]\n",
    "orders.head()"
   ]
  },
  {
   "cell_type": "markdown",
   "id": "dbfb1feb",
   "metadata": {},
   "source": [
    "## Products"
   ]
  },
  {
   "cell_type": "code",
   "execution_count": 12,
   "id": "fdd3c969",
   "metadata": {},
   "outputs": [
    {
     "data": {
      "text/html": [
       "<div>\n",
       "<style scoped>\n",
       "    .dataframe tbody tr th:only-of-type {\n",
       "        vertical-align: middle;\n",
       "    }\n",
       "\n",
       "    .dataframe tbody tr th {\n",
       "        vertical-align: top;\n",
       "    }\n",
       "\n",
       "    .dataframe thead th {\n",
       "        text-align: right;\n",
       "    }\n",
       "</style>\n",
       "<table border=\"1\" class=\"dataframe\">\n",
       "  <thead>\n",
       "    <tr style=\"text-align: right;\">\n",
       "      <th></th>\n",
       "      <th>product_id</th>\n",
       "      <th>product_category_name</th>\n",
       "      <th>product_name_lenght</th>\n",
       "      <th>product_description_lenght</th>\n",
       "      <th>product_photos_qty</th>\n",
       "      <th>product_weight_g</th>\n",
       "      <th>product_length_cm</th>\n",
       "      <th>product_height_cm</th>\n",
       "      <th>product_width_cm</th>\n",
       "    </tr>\n",
       "  </thead>\n",
       "  <tbody>\n",
       "    <tr>\n",
       "      <th>0</th>\n",
       "      <td>1e9e8ef04dbcff4541ed26657ea517e5</td>\n",
       "      <td>perfumaria</td>\n",
       "      <td>40.0</td>\n",
       "      <td>287.0</td>\n",
       "      <td>1.0</td>\n",
       "      <td>225.0</td>\n",
       "      <td>16.0</td>\n",
       "      <td>10.0</td>\n",
       "      <td>14.0</td>\n",
       "    </tr>\n",
       "    <tr>\n",
       "      <th>1</th>\n",
       "      <td>3aa071139cb16b67ca9e5dea641aaa2f</td>\n",
       "      <td>artes</td>\n",
       "      <td>44.0</td>\n",
       "      <td>276.0</td>\n",
       "      <td>1.0</td>\n",
       "      <td>1000.0</td>\n",
       "      <td>30.0</td>\n",
       "      <td>18.0</td>\n",
       "      <td>20.0</td>\n",
       "    </tr>\n",
       "    <tr>\n",
       "      <th>2</th>\n",
       "      <td>96bd76ec8810374ed1b65e291975717f</td>\n",
       "      <td>esporte_lazer</td>\n",
       "      <td>46.0</td>\n",
       "      <td>250.0</td>\n",
       "      <td>1.0</td>\n",
       "      <td>154.0</td>\n",
       "      <td>18.0</td>\n",
       "      <td>9.0</td>\n",
       "      <td>15.0</td>\n",
       "    </tr>\n",
       "    <tr>\n",
       "      <th>3</th>\n",
       "      <td>cef67bcfe19066a932b7673e239eb23d</td>\n",
       "      <td>bebes</td>\n",
       "      <td>27.0</td>\n",
       "      <td>261.0</td>\n",
       "      <td>1.0</td>\n",
       "      <td>371.0</td>\n",
       "      <td>26.0</td>\n",
       "      <td>4.0</td>\n",
       "      <td>26.0</td>\n",
       "    </tr>\n",
       "    <tr>\n",
       "      <th>4</th>\n",
       "      <td>9dc1a7de274444849c219cff195d0b71</td>\n",
       "      <td>utilidades_domesticas</td>\n",
       "      <td>37.0</td>\n",
       "      <td>402.0</td>\n",
       "      <td>4.0</td>\n",
       "      <td>625.0</td>\n",
       "      <td>20.0</td>\n",
       "      <td>17.0</td>\n",
       "      <td>13.0</td>\n",
       "    </tr>\n",
       "  </tbody>\n",
       "</table>\n",
       "</div>"
      ],
      "text/plain": [
       "                         product_id  product_category_name  \\\n",
       "0  1e9e8ef04dbcff4541ed26657ea517e5             perfumaria   \n",
       "1  3aa071139cb16b67ca9e5dea641aaa2f                  artes   \n",
       "2  96bd76ec8810374ed1b65e291975717f          esporte_lazer   \n",
       "3  cef67bcfe19066a932b7673e239eb23d                  bebes   \n",
       "4  9dc1a7de274444849c219cff195d0b71  utilidades_domesticas   \n",
       "\n",
       "   product_name_lenght  product_description_lenght  product_photos_qty  \\\n",
       "0                 40.0                       287.0                 1.0   \n",
       "1                 44.0                       276.0                 1.0   \n",
       "2                 46.0                       250.0                 1.0   \n",
       "3                 27.0                       261.0                 1.0   \n",
       "4                 37.0                       402.0                 4.0   \n",
       "\n",
       "   product_weight_g  product_length_cm  product_height_cm  product_width_cm  \n",
       "0             225.0               16.0               10.0              14.0  \n",
       "1            1000.0               30.0               18.0              20.0  \n",
       "2             154.0               18.0                9.0              15.0  \n",
       "3             371.0               26.0                4.0              26.0  \n",
       "4             625.0               20.0               17.0              13.0  "
      ]
     },
     "execution_count": 12,
     "metadata": {},
     "output_type": "execute_result"
    }
   ],
   "source": [
    "products.head()"
   ]
  },
  {
   "cell_type": "code",
   "execution_count": 13,
   "id": "256ef3d9",
   "metadata": {},
   "outputs": [
    {
     "name": "stdout",
     "output_type": "stream",
     "text": [
      "Products dataset\n",
      "Lines: 32951\n",
      "Columns: 9\n"
     ]
    }
   ],
   "source": [
    "print('Products dataset')\n",
    "print('Lines:', products.shape[0])\n",
    "print('Columns:', products.shape[1])"
   ]
  },
  {
   "cell_type": "code",
   "execution_count": 14,
   "id": "2b623aa3",
   "metadata": {},
   "outputs": [
    {
     "data": {
      "text/html": [
       "<div>\n",
       "<style scoped>\n",
       "    .dataframe tbody tr th:only-of-type {\n",
       "        vertical-align: middle;\n",
       "    }\n",
       "\n",
       "    .dataframe tbody tr th {\n",
       "        vertical-align: top;\n",
       "    }\n",
       "\n",
       "    .dataframe thead th {\n",
       "        text-align: right;\n",
       "    }\n",
       "</style>\n",
       "<table border=\"1\" class=\"dataframe\">\n",
       "  <thead>\n",
       "    <tr style=\"text-align: right;\">\n",
       "      <th></th>\n",
       "      <th>product_id</th>\n",
       "      <th>product_category_name</th>\n",
       "    </tr>\n",
       "  </thead>\n",
       "  <tbody>\n",
       "    <tr>\n",
       "      <th>0</th>\n",
       "      <td>1e9e8ef04dbcff4541ed26657ea517e5</td>\n",
       "      <td>perfumaria</td>\n",
       "    </tr>\n",
       "    <tr>\n",
       "      <th>1</th>\n",
       "      <td>3aa071139cb16b67ca9e5dea641aaa2f</td>\n",
       "      <td>artes</td>\n",
       "    </tr>\n",
       "    <tr>\n",
       "      <th>2</th>\n",
       "      <td>96bd76ec8810374ed1b65e291975717f</td>\n",
       "      <td>esporte_lazer</td>\n",
       "    </tr>\n",
       "    <tr>\n",
       "      <th>3</th>\n",
       "      <td>cef67bcfe19066a932b7673e239eb23d</td>\n",
       "      <td>bebes</td>\n",
       "    </tr>\n",
       "    <tr>\n",
       "      <th>4</th>\n",
       "      <td>9dc1a7de274444849c219cff195d0b71</td>\n",
       "      <td>utilidades_domesticas</td>\n",
       "    </tr>\n",
       "  </tbody>\n",
       "</table>\n",
       "</div>"
      ],
      "text/plain": [
       "                         product_id  product_category_name\n",
       "0  1e9e8ef04dbcff4541ed26657ea517e5             perfumaria\n",
       "1  3aa071139cb16b67ca9e5dea641aaa2f                  artes\n",
       "2  96bd76ec8810374ed1b65e291975717f          esporte_lazer\n",
       "3  cef67bcfe19066a932b7673e239eb23d                  bebes\n",
       "4  9dc1a7de274444849c219cff195d0b71  utilidades_domesticas"
      ]
     },
     "execution_count": 14,
     "metadata": {},
     "output_type": "execute_result"
    }
   ],
   "source": [
    "## Filtering columns product_id and product_category_name\n",
    "\n",
    "products = products.loc[:, ['product_id','product_category_name']]\n",
    "products.head()"
   ]
  },
  {
   "cell_type": "markdown",
   "id": "fc173a88",
   "metadata": {},
   "source": [
    "_____"
   ]
  },
  {
   "cell_type": "markdown",
   "id": "7e5b0016",
   "metadata": {},
   "source": [
    "# Merges"
   ]
  },
  {
   "cell_type": "markdown",
   "id": "399b975c",
   "metadata": {},
   "source": [
    "## Merge between items and product in order_id column \n",
    "Creating a dataframe with order_id, product_id, price and product_category_name"
   ]
  },
  {
   "cell_type": "code",
   "execution_count": 15,
   "id": "6aa11b17",
   "metadata": {},
   "outputs": [
    {
     "data": {
      "text/html": [
       "<div>\n",
       "<style scoped>\n",
       "    .dataframe tbody tr th:only-of-type {\n",
       "        vertical-align: middle;\n",
       "    }\n",
       "\n",
       "    .dataframe tbody tr th {\n",
       "        vertical-align: top;\n",
       "    }\n",
       "\n",
       "    .dataframe thead th {\n",
       "        text-align: right;\n",
       "    }\n",
       "</style>\n",
       "<table border=\"1\" class=\"dataframe\">\n",
       "  <thead>\n",
       "    <tr style=\"text-align: right;\">\n",
       "      <th></th>\n",
       "      <th>order_id</th>\n",
       "      <th>product_id</th>\n",
       "      <th>price</th>\n",
       "      <th>product_category_name</th>\n",
       "    </tr>\n",
       "  </thead>\n",
       "  <tbody>\n",
       "    <tr>\n",
       "      <th>0</th>\n",
       "      <td>00010242fe8c5a6d1ba2dd792cb16214</td>\n",
       "      <td>4244733e06e7ecb4970a6e2683c13e61</td>\n",
       "      <td>58.90</td>\n",
       "      <td>cool_stuff</td>\n",
       "    </tr>\n",
       "    <tr>\n",
       "      <th>1</th>\n",
       "      <td>00018f77f2f0320c557190d7a144bdd3</td>\n",
       "      <td>e5f2d52b802189ee658865ca93d83a8f</td>\n",
       "      <td>239.90</td>\n",
       "      <td>pet_shop</td>\n",
       "    </tr>\n",
       "    <tr>\n",
       "      <th>2</th>\n",
       "      <td>000229ec398224ef6ca0657da4fc703e</td>\n",
       "      <td>c777355d18b72b67abbeef9df44fd0fd</td>\n",
       "      <td>199.00</td>\n",
       "      <td>moveis_decoracao</td>\n",
       "    </tr>\n",
       "    <tr>\n",
       "      <th>3</th>\n",
       "      <td>00024acbcdf0a6daa1e931b038114c75</td>\n",
       "      <td>7634da152a4610f1595efa32f14722fc</td>\n",
       "      <td>12.99</td>\n",
       "      <td>perfumaria</td>\n",
       "    </tr>\n",
       "    <tr>\n",
       "      <th>4</th>\n",
       "      <td>00042b26cf59d7ce69dfabb4e55b4fd9</td>\n",
       "      <td>ac6c3623068f30de03045865e4e10089</td>\n",
       "      <td>199.90</td>\n",
       "      <td>ferramentas_jardim</td>\n",
       "    </tr>\n",
       "  </tbody>\n",
       "</table>\n",
       "</div>"
      ],
      "text/plain": [
       "                           order_id                        product_id   price  \\\n",
       "0  00010242fe8c5a6d1ba2dd792cb16214  4244733e06e7ecb4970a6e2683c13e61   58.90   \n",
       "1  00018f77f2f0320c557190d7a144bdd3  e5f2d52b802189ee658865ca93d83a8f  239.90   \n",
       "2  000229ec398224ef6ca0657da4fc703e  c777355d18b72b67abbeef9df44fd0fd  199.00   \n",
       "3  00024acbcdf0a6daa1e931b038114c75  7634da152a4610f1595efa32f14722fc   12.99   \n",
       "4  00042b26cf59d7ce69dfabb4e55b4fd9  ac6c3623068f30de03045865e4e10089  199.90   \n",
       "\n",
       "  product_category_name  \n",
       "0            cool_stuff  \n",
       "1              pet_shop  \n",
       "2      moveis_decoracao  \n",
       "3            perfumaria  \n",
       "4    ferramentas_jardim  "
      ]
     },
     "execution_count": 15,
     "metadata": {},
     "output_type": "execute_result"
    }
   ],
   "source": [
    "order_product = items.merge(products, how = 'left', on = 'product_id')\n",
    "\n",
    "order_product.head()"
   ]
  },
  {
   "cell_type": "markdown",
   "id": "7ca86ead",
   "metadata": {},
   "source": [
    "## Merge order_product and orders"
   ]
  },
  {
   "cell_type": "code",
   "execution_count": 16,
   "id": "a719b7b8",
   "metadata": {},
   "outputs": [],
   "source": [
    "orders_final = orders.merge(order_product, how = 'left', on = 'order_id')"
   ]
  },
  {
   "cell_type": "code",
   "execution_count": 17,
   "id": "057ad0f4",
   "metadata": {},
   "outputs": [
    {
     "data": {
      "text/html": [
       "<div>\n",
       "<style scoped>\n",
       "    .dataframe tbody tr th:only-of-type {\n",
       "        vertical-align: middle;\n",
       "    }\n",
       "\n",
       "    .dataframe tbody tr th {\n",
       "        vertical-align: top;\n",
       "    }\n",
       "\n",
       "    .dataframe thead th {\n",
       "        text-align: right;\n",
       "    }\n",
       "</style>\n",
       "<table border=\"1\" class=\"dataframe\">\n",
       "  <thead>\n",
       "    <tr style=\"text-align: right;\">\n",
       "      <th></th>\n",
       "      <th>order_id</th>\n",
       "      <th>customer_id</th>\n",
       "      <th>product_id</th>\n",
       "      <th>price</th>\n",
       "      <th>product_category_name</th>\n",
       "    </tr>\n",
       "  </thead>\n",
       "  <tbody>\n",
       "    <tr>\n",
       "      <th>0</th>\n",
       "      <td>e481f51cbdc54678b7cc49136f2d6af7</td>\n",
       "      <td>9ef432eb6251297304e76186b10a928d</td>\n",
       "      <td>87285b34884572647811a353c7ac498a</td>\n",
       "      <td>29.99</td>\n",
       "      <td>utilidades_domesticas</td>\n",
       "    </tr>\n",
       "    <tr>\n",
       "      <th>1</th>\n",
       "      <td>53cdb2fc8bc7dce0b6741e2150273451</td>\n",
       "      <td>b0830fb4747a6c6d20dea0b8c802d7ef</td>\n",
       "      <td>595fac2a385ac33a80bd5114aec74eb8</td>\n",
       "      <td>118.70</td>\n",
       "      <td>perfumaria</td>\n",
       "    </tr>\n",
       "    <tr>\n",
       "      <th>2</th>\n",
       "      <td>47770eb9100c2d0c44946d9cf07ec65d</td>\n",
       "      <td>41ce2a54c0b03bf3443c3d931a367089</td>\n",
       "      <td>aa4383b373c6aca5d8797843e5594415</td>\n",
       "      <td>159.90</td>\n",
       "      <td>automotivo</td>\n",
       "    </tr>\n",
       "    <tr>\n",
       "      <th>3</th>\n",
       "      <td>949d5b44dbf5de918fe9c16f97b45f8a</td>\n",
       "      <td>f88197465ea7920adcdbec7375364d82</td>\n",
       "      <td>d0b61bfb1de832b15ba9d266ca96e5b0</td>\n",
       "      <td>45.00</td>\n",
       "      <td>pet_shop</td>\n",
       "    </tr>\n",
       "    <tr>\n",
       "      <th>4</th>\n",
       "      <td>ad21c59c0840e6cb83a9ceb5573f8159</td>\n",
       "      <td>8ab97904e6daea8866dbdbc4fb7aad2c</td>\n",
       "      <td>65266b2da20d04dbe00c5c2d3bb7859e</td>\n",
       "      <td>19.90</td>\n",
       "      <td>papelaria</td>\n",
       "    </tr>\n",
       "  </tbody>\n",
       "</table>\n",
       "</div>"
      ],
      "text/plain": [
       "                           order_id                       customer_id  \\\n",
       "0  e481f51cbdc54678b7cc49136f2d6af7  9ef432eb6251297304e76186b10a928d   \n",
       "1  53cdb2fc8bc7dce0b6741e2150273451  b0830fb4747a6c6d20dea0b8c802d7ef   \n",
       "2  47770eb9100c2d0c44946d9cf07ec65d  41ce2a54c0b03bf3443c3d931a367089   \n",
       "3  949d5b44dbf5de918fe9c16f97b45f8a  f88197465ea7920adcdbec7375364d82   \n",
       "4  ad21c59c0840e6cb83a9ceb5573f8159  8ab97904e6daea8866dbdbc4fb7aad2c   \n",
       "\n",
       "                         product_id   price  product_category_name  \n",
       "0  87285b34884572647811a353c7ac498a   29.99  utilidades_domesticas  \n",
       "1  595fac2a385ac33a80bd5114aec74eb8  118.70             perfumaria  \n",
       "2  aa4383b373c6aca5d8797843e5594415  159.90             automotivo  \n",
       "3  d0b61bfb1de832b15ba9d266ca96e5b0   45.00               pet_shop  \n",
       "4  65266b2da20d04dbe00c5c2d3bb7859e   19.90              papelaria  "
      ]
     },
     "execution_count": 17,
     "metadata": {},
     "output_type": "execute_result"
    }
   ],
   "source": [
    "orders_final.head()"
   ]
  },
  {
   "cell_type": "code",
   "execution_count": 18,
   "id": "29b9d2a0",
   "metadata": {},
   "outputs": [
    {
     "data": {
      "text/plain": [
       "order_id                    0\n",
       "customer_id                 0\n",
       "product_id                  0\n",
       "price                       0\n",
       "product_category_name    1537\n",
       "dtype: int64"
      ]
     },
     "execution_count": 18,
     "metadata": {},
     "output_type": "execute_result"
    }
   ],
   "source": [
    "orders_final.isnull().sum()"
   ]
  },
  {
   "cell_type": "code",
   "execution_count": 19,
   "id": "fe785b8c",
   "metadata": {},
   "outputs": [],
   "source": [
    "## Drop null values\n",
    "orders_final.dropna(inplace = True)"
   ]
  },
  {
   "cell_type": "markdown",
   "id": "311dc568",
   "metadata": {},
   "source": [
    "# Location information"
   ]
  },
  {
   "cell_type": "markdown",
   "id": "28d91a18",
   "metadata": {},
   "source": [
    "### Customer dataset"
   ]
  },
  {
   "cell_type": "code",
   "execution_count": 5,
   "id": "690dfdca",
   "metadata": {},
   "outputs": [
    {
     "data": {
      "text/html": [
       "<div>\n",
       "<style scoped>\n",
       "    .dataframe tbody tr th:only-of-type {\n",
       "        vertical-align: middle;\n",
       "    }\n",
       "\n",
       "    .dataframe tbody tr th {\n",
       "        vertical-align: top;\n",
       "    }\n",
       "\n",
       "    .dataframe thead th {\n",
       "        text-align: right;\n",
       "    }\n",
       "</style>\n",
       "<table border=\"1\" class=\"dataframe\">\n",
       "  <thead>\n",
       "    <tr style=\"text-align: right;\">\n",
       "      <th></th>\n",
       "      <th>customer_id</th>\n",
       "      <th>customer_unique_id</th>\n",
       "      <th>customer_zip_code_prefix</th>\n",
       "      <th>customer_city</th>\n",
       "      <th>customer_state</th>\n",
       "    </tr>\n",
       "  </thead>\n",
       "  <tbody>\n",
       "    <tr>\n",
       "      <th>0</th>\n",
       "      <td>06b8999e2fba1a1fbc88172c00ba8bc7</td>\n",
       "      <td>861eff4711a542e4b93843c6dd7febb0</td>\n",
       "      <td>14409</td>\n",
       "      <td>franca</td>\n",
       "      <td>SP</td>\n",
       "    </tr>\n",
       "    <tr>\n",
       "      <th>1</th>\n",
       "      <td>18955e83d337fd6b2def6b18a428ac77</td>\n",
       "      <td>290c77bc529b7ac935b93aa66c333dc3</td>\n",
       "      <td>9790</td>\n",
       "      <td>sao bernardo do campo</td>\n",
       "      <td>SP</td>\n",
       "    </tr>\n",
       "    <tr>\n",
       "      <th>2</th>\n",
       "      <td>4e7b3e00288586ebd08712fdd0374a03</td>\n",
       "      <td>060e732b5b29e8181a18229c7b0b2b5e</td>\n",
       "      <td>1151</td>\n",
       "      <td>sao paulo</td>\n",
       "      <td>SP</td>\n",
       "    </tr>\n",
       "    <tr>\n",
       "      <th>3</th>\n",
       "      <td>b2b6027bc5c5109e529d4dc6358b12c3</td>\n",
       "      <td>259dac757896d24d7702b9acbbff3f3c</td>\n",
       "      <td>8775</td>\n",
       "      <td>mogi das cruzes</td>\n",
       "      <td>SP</td>\n",
       "    </tr>\n",
       "    <tr>\n",
       "      <th>4</th>\n",
       "      <td>4f2d8ab171c80ec8364f7c12e35b23ad</td>\n",
       "      <td>345ecd01c38d18a9036ed96c73b8d066</td>\n",
       "      <td>13056</td>\n",
       "      <td>campinas</td>\n",
       "      <td>SP</td>\n",
       "    </tr>\n",
       "  </tbody>\n",
       "</table>\n",
       "</div>"
      ],
      "text/plain": [
       "                        customer_id                customer_unique_id  \\\n",
       "0  06b8999e2fba1a1fbc88172c00ba8bc7  861eff4711a542e4b93843c6dd7febb0   \n",
       "1  18955e83d337fd6b2def6b18a428ac77  290c77bc529b7ac935b93aa66c333dc3   \n",
       "2  4e7b3e00288586ebd08712fdd0374a03  060e732b5b29e8181a18229c7b0b2b5e   \n",
       "3  b2b6027bc5c5109e529d4dc6358b12c3  259dac757896d24d7702b9acbbff3f3c   \n",
       "4  4f2d8ab171c80ec8364f7c12e35b23ad  345ecd01c38d18a9036ed96c73b8d066   \n",
       "\n",
       "   customer_zip_code_prefix          customer_city customer_state  \n",
       "0                     14409                 franca             SP  \n",
       "1                      9790  sao bernardo do campo             SP  \n",
       "2                      1151              sao paulo             SP  \n",
       "3                      8775        mogi das cruzes             SP  \n",
       "4                     13056               campinas             SP  "
      ]
     },
     "execution_count": 5,
     "metadata": {},
     "output_type": "execute_result"
    }
   ],
   "source": [
    "customer = pd.read_csv('datasets/olist_customers_dataset.csv')\n",
    "customer.head()"
   ]
  },
  {
   "cell_type": "code",
   "execution_count": 21,
   "id": "5c463e25",
   "metadata": {},
   "outputs": [],
   "source": [
    "## Filtering columns customer_id, customer_city, customer_state"
   ]
  },
  {
   "cell_type": "code",
   "execution_count": 22,
   "id": "ec3c373b",
   "metadata": {},
   "outputs": [
    {
     "data": {
      "text/html": [
       "<div>\n",
       "<style scoped>\n",
       "    .dataframe tbody tr th:only-of-type {\n",
       "        vertical-align: middle;\n",
       "    }\n",
       "\n",
       "    .dataframe tbody tr th {\n",
       "        vertical-align: top;\n",
       "    }\n",
       "\n",
       "    .dataframe thead th {\n",
       "        text-align: right;\n",
       "    }\n",
       "</style>\n",
       "<table border=\"1\" class=\"dataframe\">\n",
       "  <thead>\n",
       "    <tr style=\"text-align: right;\">\n",
       "      <th></th>\n",
       "      <th>customer_id</th>\n",
       "      <th>customer_city</th>\n",
       "      <th>customer_state</th>\n",
       "    </tr>\n",
       "  </thead>\n",
       "  <tbody>\n",
       "    <tr>\n",
       "      <th>0</th>\n",
       "      <td>06b8999e2fba1a1fbc88172c00ba8bc7</td>\n",
       "      <td>franca</td>\n",
       "      <td>SP</td>\n",
       "    </tr>\n",
       "    <tr>\n",
       "      <th>1</th>\n",
       "      <td>18955e83d337fd6b2def6b18a428ac77</td>\n",
       "      <td>sao bernardo do campo</td>\n",
       "      <td>SP</td>\n",
       "    </tr>\n",
       "    <tr>\n",
       "      <th>2</th>\n",
       "      <td>4e7b3e00288586ebd08712fdd0374a03</td>\n",
       "      <td>sao paulo</td>\n",
       "      <td>SP</td>\n",
       "    </tr>\n",
       "    <tr>\n",
       "      <th>3</th>\n",
       "      <td>b2b6027bc5c5109e529d4dc6358b12c3</td>\n",
       "      <td>mogi das cruzes</td>\n",
       "      <td>SP</td>\n",
       "    </tr>\n",
       "    <tr>\n",
       "      <th>4</th>\n",
       "      <td>4f2d8ab171c80ec8364f7c12e35b23ad</td>\n",
       "      <td>campinas</td>\n",
       "      <td>SP</td>\n",
       "    </tr>\n",
       "  </tbody>\n",
       "</table>\n",
       "</div>"
      ],
      "text/plain": [
       "                        customer_id          customer_city customer_state\n",
       "0  06b8999e2fba1a1fbc88172c00ba8bc7                 franca             SP\n",
       "1  18955e83d337fd6b2def6b18a428ac77  sao bernardo do campo             SP\n",
       "2  4e7b3e00288586ebd08712fdd0374a03              sao paulo             SP\n",
       "3  b2b6027bc5c5109e529d4dc6358b12c3        mogi das cruzes             SP\n",
       "4  4f2d8ab171c80ec8364f7c12e35b23ad               campinas             SP"
      ]
     },
     "execution_count": 22,
     "metadata": {},
     "output_type": "execute_result"
    }
   ],
   "source": [
    "customer = customer.loc[:, ['customer_id', 'customer_city', 'customer_state']]\n",
    "customer.head()"
   ]
  },
  {
   "cell_type": "code",
   "execution_count": 23,
   "id": "0fee9426",
   "metadata": {},
   "outputs": [
    {
     "data": {
      "text/html": [
       "<div>\n",
       "<style scoped>\n",
       "    .dataframe tbody tr th:only-of-type {\n",
       "        vertical-align: middle;\n",
       "    }\n",
       "\n",
       "    .dataframe tbody tr th {\n",
       "        vertical-align: top;\n",
       "    }\n",
       "\n",
       "    .dataframe thead th {\n",
       "        text-align: right;\n",
       "    }\n",
       "</style>\n",
       "<table border=\"1\" class=\"dataframe\">\n",
       "  <thead>\n",
       "    <tr style=\"text-align: right;\">\n",
       "      <th></th>\n",
       "      <th>order_id</th>\n",
       "      <th>customer_id</th>\n",
       "      <th>product_id</th>\n",
       "      <th>price</th>\n",
       "      <th>product_category_name</th>\n",
       "      <th>customer_city</th>\n",
       "      <th>customer_state</th>\n",
       "    </tr>\n",
       "  </thead>\n",
       "  <tbody>\n",
       "    <tr>\n",
       "      <th>0</th>\n",
       "      <td>e481f51cbdc54678b7cc49136f2d6af7</td>\n",
       "      <td>9ef432eb6251297304e76186b10a928d</td>\n",
       "      <td>87285b34884572647811a353c7ac498a</td>\n",
       "      <td>29.99</td>\n",
       "      <td>utilidades_domesticas</td>\n",
       "      <td>sao paulo</td>\n",
       "      <td>SP</td>\n",
       "    </tr>\n",
       "    <tr>\n",
       "      <th>1</th>\n",
       "      <td>53cdb2fc8bc7dce0b6741e2150273451</td>\n",
       "      <td>b0830fb4747a6c6d20dea0b8c802d7ef</td>\n",
       "      <td>595fac2a385ac33a80bd5114aec74eb8</td>\n",
       "      <td>118.70</td>\n",
       "      <td>perfumaria</td>\n",
       "      <td>barreiras</td>\n",
       "      <td>BA</td>\n",
       "    </tr>\n",
       "    <tr>\n",
       "      <th>2</th>\n",
       "      <td>47770eb9100c2d0c44946d9cf07ec65d</td>\n",
       "      <td>41ce2a54c0b03bf3443c3d931a367089</td>\n",
       "      <td>aa4383b373c6aca5d8797843e5594415</td>\n",
       "      <td>159.90</td>\n",
       "      <td>automotivo</td>\n",
       "      <td>vianopolis</td>\n",
       "      <td>GO</td>\n",
       "    </tr>\n",
       "    <tr>\n",
       "      <th>3</th>\n",
       "      <td>949d5b44dbf5de918fe9c16f97b45f8a</td>\n",
       "      <td>f88197465ea7920adcdbec7375364d82</td>\n",
       "      <td>d0b61bfb1de832b15ba9d266ca96e5b0</td>\n",
       "      <td>45.00</td>\n",
       "      <td>pet_shop</td>\n",
       "      <td>sao goncalo do amarante</td>\n",
       "      <td>RN</td>\n",
       "    </tr>\n",
       "    <tr>\n",
       "      <th>4</th>\n",
       "      <td>ad21c59c0840e6cb83a9ceb5573f8159</td>\n",
       "      <td>8ab97904e6daea8866dbdbc4fb7aad2c</td>\n",
       "      <td>65266b2da20d04dbe00c5c2d3bb7859e</td>\n",
       "      <td>19.90</td>\n",
       "      <td>papelaria</td>\n",
       "      <td>santo andre</td>\n",
       "      <td>SP</td>\n",
       "    </tr>\n",
       "  </tbody>\n",
       "</table>\n",
       "</div>"
      ],
      "text/plain": [
       "                           order_id                       customer_id  \\\n",
       "0  e481f51cbdc54678b7cc49136f2d6af7  9ef432eb6251297304e76186b10a928d   \n",
       "1  53cdb2fc8bc7dce0b6741e2150273451  b0830fb4747a6c6d20dea0b8c802d7ef   \n",
       "2  47770eb9100c2d0c44946d9cf07ec65d  41ce2a54c0b03bf3443c3d931a367089   \n",
       "3  949d5b44dbf5de918fe9c16f97b45f8a  f88197465ea7920adcdbec7375364d82   \n",
       "4  ad21c59c0840e6cb83a9ceb5573f8159  8ab97904e6daea8866dbdbc4fb7aad2c   \n",
       "\n",
       "                         product_id   price  product_category_name  \\\n",
       "0  87285b34884572647811a353c7ac498a   29.99  utilidades_domesticas   \n",
       "1  595fac2a385ac33a80bd5114aec74eb8  118.70             perfumaria   \n",
       "2  aa4383b373c6aca5d8797843e5594415  159.90             automotivo   \n",
       "3  d0b61bfb1de832b15ba9d266ca96e5b0   45.00               pet_shop   \n",
       "4  65266b2da20d04dbe00c5c2d3bb7859e   19.90              papelaria   \n",
       "\n",
       "             customer_city customer_state  \n",
       "0                sao paulo             SP  \n",
       "1                barreiras             BA  \n",
       "2               vianopolis             GO  \n",
       "3  sao goncalo do amarante             RN  \n",
       "4              santo andre             SP  "
      ]
     },
     "execution_count": 23,
     "metadata": {},
     "output_type": "execute_result"
    }
   ],
   "source": [
    "## Merge orders_final and customer\n",
    "\n",
    "orders_final_2 = orders_final.merge(customer, how = 'left', on = 'customer_id')\n",
    "orders_final_2.head()"
   ]
  },
  {
   "cell_type": "code",
   "execution_count": 24,
   "id": "4d5a55f5",
   "metadata": {},
   "outputs": [
    {
     "data": {
      "text/plain": [
       "order_id                 0\n",
       "customer_id              0\n",
       "product_id               0\n",
       "price                    0\n",
       "product_category_name    0\n",
       "customer_city            0\n",
       "customer_state           0\n",
       "dtype: int64"
      ]
     },
     "execution_count": 24,
     "metadata": {},
     "output_type": "execute_result"
    }
   ],
   "source": [
    "#Searching for null values\n",
    "orders_final_2.isnull().sum()"
   ]
  },
  {
   "cell_type": "code",
   "execution_count": 25,
   "id": "f57a7934",
   "metadata": {},
   "outputs": [
    {
     "name": "stdout",
     "output_type": "stream",
     "text": [
      "Number of orders: 108660\n"
     ]
    }
   ],
   "source": [
    "print('Number of orders:',orders_final_2.shape[0])"
   ]
  },
  {
   "cell_type": "code",
   "execution_count": 26,
   "id": "72230157",
   "metadata": {},
   "outputs": [
    {
     "name": "stdout",
     "output_type": "stream",
     "text": [
      "Number of products: 73\n"
     ]
    }
   ],
   "source": [
    "print('Number of products:',len(orders_final_2.product_category_name.value_counts()))"
   ]
  },
  {
   "cell_type": "code",
   "execution_count": 27,
   "id": "3d74054e",
   "metadata": {},
   "outputs": [
    {
     "name": "stdout",
     "output_type": "stream",
     "text": [
      "Number of cities: 4073\n"
     ]
    }
   ],
   "source": [
    "print('Number of cities:',len(orders_final_2.customer_city.value_counts()))"
   ]
  },
  {
   "cell_type": "code",
   "execution_count": 28,
   "id": "eb8d6902",
   "metadata": {},
   "outputs": [
    {
     "name": "stdout",
     "output_type": "stream",
     "text": [
      "Number of states: 27\n"
     ]
    }
   ],
   "source": [
    "print('Number of states:',len(orders_final_2.customer_state.value_counts()))"
   ]
  },
  {
   "cell_type": "code",
   "execution_count": 29,
   "id": "c84c79a6",
   "metadata": {},
   "outputs": [],
   "source": [
    "## Contando a quantidade de vendas por categoria de produto e estado para calcular o lucro"
   ]
  },
  {
   "cell_type": "code",
   "execution_count": 30,
   "id": "54d2ec47",
   "metadata": {},
   "outputs": [
    {
     "data": {
      "text/plain": [
       "Index(['order_id', 'customer_id', 'product_id', 'price',\n",
       "       'product_category_name', 'customer_city', 'customer_state'],\n",
       "      dtype='object')"
      ]
     },
     "execution_count": 30,
     "metadata": {},
     "output_type": "execute_result"
    }
   ],
   "source": [
    "orders_final_2.columns"
   ]
  },
  {
   "cell_type": "code",
   "execution_count": 31,
   "id": "96adc450",
   "metadata": {},
   "outputs": [
    {
     "data": {
      "text/html": [
       "<div>\n",
       "<style scoped>\n",
       "    .dataframe tbody tr th:only-of-type {\n",
       "        vertical-align: middle;\n",
       "    }\n",
       "\n",
       "    .dataframe tbody tr th {\n",
       "        vertical-align: top;\n",
       "    }\n",
       "\n",
       "    .dataframe thead th {\n",
       "        text-align: right;\n",
       "    }\n",
       "</style>\n",
       "<table border=\"1\" class=\"dataframe\">\n",
       "  <thead>\n",
       "    <tr style=\"text-align: right;\">\n",
       "      <th></th>\n",
       "      <th>customer_state</th>\n",
       "      <th>product_category_name</th>\n",
       "      <th>order_id</th>\n",
       "      <th>customer_id</th>\n",
       "    </tr>\n",
       "  </thead>\n",
       "  <tbody>\n",
       "    <tr>\n",
       "      <th>0</th>\n",
       "      <td>AC</td>\n",
       "      <td>artigos_de_natal</td>\n",
       "      <td>feeb572a755207d889d166ca90221c84</td>\n",
       "      <td>1</td>\n",
       "    </tr>\n",
       "    <tr>\n",
       "      <th>1</th>\n",
       "      <td>AC</td>\n",
       "      <td>automotivo</td>\n",
       "      <td>5b829c37201779df841d79b1875ca7ef</td>\n",
       "      <td>1</td>\n",
       "    </tr>\n",
       "    <tr>\n",
       "      <th>2</th>\n",
       "      <td>AC</td>\n",
       "      <td>automotivo</td>\n",
       "      <td>62686dac3e596036e72fe0beb571e45e</td>\n",
       "      <td>1</td>\n",
       "    </tr>\n",
       "    <tr>\n",
       "      <th>3</th>\n",
       "      <td>AC</td>\n",
       "      <td>automotivo</td>\n",
       "      <td>a3629884bf8956b0f572069b8a20cc55</td>\n",
       "      <td>1</td>\n",
       "    </tr>\n",
       "    <tr>\n",
       "      <th>4</th>\n",
       "      <td>AC</td>\n",
       "      <td>automotivo</td>\n",
       "      <td>e494c29003c61332fdf1340bba650cd3</td>\n",
       "      <td>1</td>\n",
       "    </tr>\n",
       "    <tr>\n",
       "      <th>...</th>\n",
       "      <td>...</td>\n",
       "      <td>...</td>\n",
       "      <td>...</td>\n",
       "      <td>...</td>\n",
       "    </tr>\n",
       "    <tr>\n",
       "      <th>95879</th>\n",
       "      <td>TO</td>\n",
       "      <td>utilidades_domesticas</td>\n",
       "      <td>b50788fa41255b57ddf0782d1fc0ad2b</td>\n",
       "      <td>1</td>\n",
       "    </tr>\n",
       "    <tr>\n",
       "      <th>95880</th>\n",
       "      <td>TO</td>\n",
       "      <td>utilidades_domesticas</td>\n",
       "      <td>c4a75a6df3e234dd684c7a6dd7e7b1ac</td>\n",
       "      <td>1</td>\n",
       "    </tr>\n",
       "    <tr>\n",
       "      <th>95881</th>\n",
       "      <td>TO</td>\n",
       "      <td>utilidades_domesticas</td>\n",
       "      <td>c6ad7089d27e68a395de452a632cb54e</td>\n",
       "      <td>1</td>\n",
       "    </tr>\n",
       "    <tr>\n",
       "      <th>95882</th>\n",
       "      <td>TO</td>\n",
       "      <td>utilidades_domesticas</td>\n",
       "      <td>d72e8cc4d5efd1b5149f68dffc423772</td>\n",
       "      <td>1</td>\n",
       "    </tr>\n",
       "    <tr>\n",
       "      <th>95883</th>\n",
       "      <td>TO</td>\n",
       "      <td>utilidades_domesticas</td>\n",
       "      <td>db3fc84b6b11b4b4c892442161860ca9</td>\n",
       "      <td>1</td>\n",
       "    </tr>\n",
       "  </tbody>\n",
       "</table>\n",
       "<p>95884 rows × 4 columns</p>\n",
       "</div>"
      ],
      "text/plain": [
       "      customer_state  product_category_name                          order_id  \\\n",
       "0                 AC       artigos_de_natal  feeb572a755207d889d166ca90221c84   \n",
       "1                 AC             automotivo  5b829c37201779df841d79b1875ca7ef   \n",
       "2                 AC             automotivo  62686dac3e596036e72fe0beb571e45e   \n",
       "3                 AC             automotivo  a3629884bf8956b0f572069b8a20cc55   \n",
       "4                 AC             automotivo  e494c29003c61332fdf1340bba650cd3   \n",
       "...              ...                    ...                               ...   \n",
       "95879             TO  utilidades_domesticas  b50788fa41255b57ddf0782d1fc0ad2b   \n",
       "95880             TO  utilidades_domesticas  c4a75a6df3e234dd684c7a6dd7e7b1ac   \n",
       "95881             TO  utilidades_domesticas  c6ad7089d27e68a395de452a632cb54e   \n",
       "95882             TO  utilidades_domesticas  d72e8cc4d5efd1b5149f68dffc423772   \n",
       "95883             TO  utilidades_domesticas  db3fc84b6b11b4b4c892442161860ca9   \n",
       "\n",
       "       customer_id  \n",
       "0                1  \n",
       "1                1  \n",
       "2                1  \n",
       "3                1  \n",
       "4                1  \n",
       "...            ...  \n",
       "95879            1  \n",
       "95880            1  \n",
       "95881            1  \n",
       "95882            1  \n",
       "95883            1  \n",
       "\n",
       "[95884 rows x 4 columns]"
      ]
     },
     "execution_count": 31,
     "metadata": {},
     "output_type": "execute_result"
    }
   ],
   "source": [
    "pricing = orders_final_2.groupby(['customer_state','product_category_name','order_id'])['customer_id'].count().to_frame().reset_index()\n",
    "pricing"
   ]
  },
  {
   "cell_type": "code",
   "execution_count": 32,
   "id": "7b63ce3c",
   "metadata": {},
   "outputs": [],
   "source": [
    "## Merge com a tabela items"
   ]
  },
  {
   "cell_type": "code",
   "execution_count": 33,
   "id": "470c6ff3",
   "metadata": {},
   "outputs": [
    {
     "data": {
      "text/html": [
       "<div>\n",
       "<style scoped>\n",
       "    .dataframe tbody tr th:only-of-type {\n",
       "        vertical-align: middle;\n",
       "    }\n",
       "\n",
       "    .dataframe tbody tr th {\n",
       "        vertical-align: top;\n",
       "    }\n",
       "\n",
       "    .dataframe thead th {\n",
       "        text-align: right;\n",
       "    }\n",
       "</style>\n",
       "<table border=\"1\" class=\"dataframe\">\n",
       "  <thead>\n",
       "    <tr style=\"text-align: right;\">\n",
       "      <th></th>\n",
       "      <th>customer_state</th>\n",
       "      <th>product_category_name</th>\n",
       "      <th>order_id</th>\n",
       "      <th>price</th>\n",
       "    </tr>\n",
       "  </thead>\n",
       "  <tbody>\n",
       "    <tr>\n",
       "      <th>0</th>\n",
       "      <td>AC</td>\n",
       "      <td>artigos_de_natal</td>\n",
       "      <td>feeb572a755207d889d166ca90221c84</td>\n",
       "      <td>69.90</td>\n",
       "    </tr>\n",
       "    <tr>\n",
       "      <th>1</th>\n",
       "      <td>AC</td>\n",
       "      <td>automotivo</td>\n",
       "      <td>5b829c37201779df841d79b1875ca7ef</td>\n",
       "      <td>144.99</td>\n",
       "    </tr>\n",
       "    <tr>\n",
       "      <th>2</th>\n",
       "      <td>AC</td>\n",
       "      <td>automotivo</td>\n",
       "      <td>62686dac3e596036e72fe0beb571e45e</td>\n",
       "      <td>285.00</td>\n",
       "    </tr>\n",
       "    <tr>\n",
       "      <th>3</th>\n",
       "      <td>AC</td>\n",
       "      <td>automotivo</td>\n",
       "      <td>a3629884bf8956b0f572069b8a20cc55</td>\n",
       "      <td>65.99</td>\n",
       "    </tr>\n",
       "    <tr>\n",
       "      <th>4</th>\n",
       "      <td>AC</td>\n",
       "      <td>automotivo</td>\n",
       "      <td>e494c29003c61332fdf1340bba650cd3</td>\n",
       "      <td>45.00</td>\n",
       "    </tr>\n",
       "  </tbody>\n",
       "</table>\n",
       "</div>"
      ],
      "text/plain": [
       "  customer_state product_category_name                          order_id  \\\n",
       "0             AC      artigos_de_natal  feeb572a755207d889d166ca90221c84   \n",
       "1             AC            automotivo  5b829c37201779df841d79b1875ca7ef   \n",
       "2             AC            automotivo  62686dac3e596036e72fe0beb571e45e   \n",
       "3             AC            automotivo  a3629884bf8956b0f572069b8a20cc55   \n",
       "4             AC            automotivo  e494c29003c61332fdf1340bba650cd3   \n",
       "\n",
       "    price  \n",
       "0   69.90  \n",
       "1  144.99  \n",
       "2  285.00  \n",
       "3   65.99  \n",
       "4   45.00  "
      ]
     },
     "execution_count": 33,
     "metadata": {},
     "output_type": "execute_result"
    }
   ],
   "source": [
    "pricing_final = pricing.merge(items.loc[:, ['order_id', 'price']], how = 'left', on = 'order_id')\n",
    "pricing_final.drop(columns = 'customer_id', inplace = True)\n",
    "pricing_final.head()"
   ]
  },
  {
   "cell_type": "code",
   "execution_count": 34,
   "id": "e7cd0b09",
   "metadata": {},
   "outputs": [
    {
     "data": {
      "text/html": [
       "<div>\n",
       "<style scoped>\n",
       "    .dataframe tbody tr th:only-of-type {\n",
       "        vertical-align: middle;\n",
       "    }\n",
       "\n",
       "    .dataframe tbody tr th {\n",
       "        vertical-align: top;\n",
       "    }\n",
       "\n",
       "    .dataframe thead th {\n",
       "        text-align: right;\n",
       "    }\n",
       "</style>\n",
       "<table border=\"1\" class=\"dataframe\">\n",
       "  <thead>\n",
       "    <tr style=\"text-align: right;\">\n",
       "      <th></th>\n",
       "      <th>state</th>\n",
       "      <th>product_category_name</th>\n",
       "      <th>price</th>\n",
       "    </tr>\n",
       "  </thead>\n",
       "  <tbody>\n",
       "    <tr>\n",
       "      <th>0</th>\n",
       "      <td>AC</td>\n",
       "      <td>artigos_de_natal</td>\n",
       "      <td>69.90</td>\n",
       "    </tr>\n",
       "    <tr>\n",
       "      <th>1</th>\n",
       "      <td>AC</td>\n",
       "      <td>automotivo</td>\n",
       "      <td>540.98</td>\n",
       "    </tr>\n",
       "    <tr>\n",
       "      <th>2</th>\n",
       "      <td>AC</td>\n",
       "      <td>bebes</td>\n",
       "      <td>697.84</td>\n",
       "    </tr>\n",
       "    <tr>\n",
       "      <th>3</th>\n",
       "      <td>AC</td>\n",
       "      <td>beleza_saude</td>\n",
       "      <td>1386.58</td>\n",
       "    </tr>\n",
       "    <tr>\n",
       "      <th>4</th>\n",
       "      <td>AC</td>\n",
       "      <td>brinquedos</td>\n",
       "      <td>234.79</td>\n",
       "    </tr>\n",
       "    <tr>\n",
       "      <th>...</th>\n",
       "      <td>...</td>\n",
       "      <td>...</td>\n",
       "      <td>...</td>\n",
       "    </tr>\n",
       "    <tr>\n",
       "      <th>1357</th>\n",
       "      <td>TO</td>\n",
       "      <td>portateis_casa_forno_e_cafe</td>\n",
       "      <td>1999.00</td>\n",
       "    </tr>\n",
       "    <tr>\n",
       "      <th>1358</th>\n",
       "      <td>TO</td>\n",
       "      <td>relogios_presentes</td>\n",
       "      <td>4920.89</td>\n",
       "    </tr>\n",
       "    <tr>\n",
       "      <th>1359</th>\n",
       "      <td>TO</td>\n",
       "      <td>telefonia</td>\n",
       "      <td>1268.12</td>\n",
       "    </tr>\n",
       "    <tr>\n",
       "      <th>1360</th>\n",
       "      <td>TO</td>\n",
       "      <td>telefonia_fixa</td>\n",
       "      <td>1390.99</td>\n",
       "    </tr>\n",
       "    <tr>\n",
       "      <th>1361</th>\n",
       "      <td>TO</td>\n",
       "      <td>utilidades_domesticas</td>\n",
       "      <td>926.17</td>\n",
       "    </tr>\n",
       "  </tbody>\n",
       "</table>\n",
       "<p>1362 rows × 3 columns</p>\n",
       "</div>"
      ],
      "text/plain": [
       "     state        product_category_name    price\n",
       "0       AC             artigos_de_natal    69.90\n",
       "1       AC                   automotivo   540.98\n",
       "2       AC                        bebes   697.84\n",
       "3       AC                 beleza_saude  1386.58\n",
       "4       AC                   brinquedos   234.79\n",
       "...    ...                          ...      ...\n",
       "1357    TO  portateis_casa_forno_e_cafe  1999.00\n",
       "1358    TO           relogios_presentes  4920.89\n",
       "1359    TO                    telefonia  1268.12\n",
       "1360    TO               telefonia_fixa  1390.99\n",
       "1361    TO        utilidades_domesticas   926.17\n",
       "\n",
       "[1362 rows x 3 columns]"
      ]
     },
     "execution_count": 34,
     "metadata": {},
     "output_type": "execute_result"
    }
   ],
   "source": [
    "## Agrupando para pegar a soma dos precos por categoria de produtos\n",
    "\n",
    "pricing_group = pricing_final.groupby(['customer_state', 'product_category_name'])['price'].sum().to_frame().reset_index()\n",
    "pricing_group.rename(columns = {'customer_state' : 'state'}, inplace = True)\n",
    "pricing_group"
   ]
  },
  {
   "cell_type": "markdown",
   "id": "6f17acdc",
   "metadata": {},
   "source": [
    "## Population dataset\n",
    "\n",
    "This dataset has the total population for each state in 2016, 2017 and 2018\n",
    "\n",
    "Sources:\n",
    "* 2016 - https://g1.globo.com/economia/noticia/2016/08/brasil-tem-mais-de-206-milhoes-de-habitantes-segundo-o-ibge.html\n",
    "* 2017 - https://g1.globo.com/economia/noticia/brasil-tem-mais-de-207-milhoes-de-habitantes-segundo-ibge.ghtml\n",
    "* 2018 - https://g1.globo.com/economia/noticia/2019/08/28/brasil-atinge-210-milhoes-de-habitantes-diz-ibge.ghtml![image.png](attachment:image.png)"
   ]
  },
  {
   "cell_type": "code",
   "execution_count": 35,
   "id": "0fd5d857",
   "metadata": {},
   "outputs": [],
   "source": [
    "population = pd.read_excel('dataset/population.xlsx')\n",
    "\n",
    "#Removing spaces in state column\n",
    "population.state = population.state.str.replace(' ', '')"
   ]
  },
  {
   "cell_type": "code",
   "execution_count": 36,
   "id": "2fafb2fd",
   "metadata": {},
   "outputs": [],
   "source": [
    "## Calculating the average population for each state"
   ]
  },
  {
   "cell_type": "code",
   "execution_count": 37,
   "id": "2139cee4",
   "metadata": {},
   "outputs": [
    {
     "data": {
      "text/html": [
       "<div>\n",
       "<style scoped>\n",
       "    .dataframe tbody tr th:only-of-type {\n",
       "        vertical-align: middle;\n",
       "    }\n",
       "\n",
       "    .dataframe tbody tr th {\n",
       "        vertical-align: top;\n",
       "    }\n",
       "\n",
       "    .dataframe thead th {\n",
       "        text-align: right;\n",
       "    }\n",
       "</style>\n",
       "<table border=\"1\" class=\"dataframe\">\n",
       "  <thead>\n",
       "    <tr style=\"text-align: right;\">\n",
       "      <th></th>\n",
       "      <th>state</th>\n",
       "      <th>2016</th>\n",
       "      <th>2017</th>\n",
       "      <th>2018</th>\n",
       "      <th>mean_pop</th>\n",
       "    </tr>\n",
       "  </thead>\n",
       "  <tbody>\n",
       "    <tr>\n",
       "      <th>0</th>\n",
       "      <td>AC</td>\n",
       "      <td>816687</td>\n",
       "      <td>829619</td>\n",
       "      <td>869265</td>\n",
       "      <td>838523</td>\n",
       "    </tr>\n",
       "    <tr>\n",
       "      <th>1</th>\n",
       "      <td>AL</td>\n",
       "      <td>3358963</td>\n",
       "      <td>3375823</td>\n",
       "      <td>3322820</td>\n",
       "      <td>3352535</td>\n",
       "    </tr>\n",
       "    <tr>\n",
       "      <th>2</th>\n",
       "      <td>AP</td>\n",
       "      <td>782295</td>\n",
       "      <td>797722</td>\n",
       "      <td>829494</td>\n",
       "      <td>803170</td>\n",
       "    </tr>\n",
       "    <tr>\n",
       "      <th>3</th>\n",
       "      <td>AM</td>\n",
       "      <td>4001667</td>\n",
       "      <td>4063614</td>\n",
       "      <td>4080611</td>\n",
       "      <td>4048630</td>\n",
       "    </tr>\n",
       "    <tr>\n",
       "      <th>4</th>\n",
       "      <td>BA</td>\n",
       "      <td>15276566</td>\n",
       "      <td>15344447</td>\n",
       "      <td>14812617</td>\n",
       "      <td>15144543</td>\n",
       "    </tr>\n",
       "  </tbody>\n",
       "</table>\n",
       "</div>"
      ],
      "text/plain": [
       "  state      2016      2017      2018  mean_pop\n",
       "0    AC    816687    829619    869265    838523\n",
       "1    AL   3358963   3375823   3322820   3352535\n",
       "2    AP    782295    797722    829494    803170\n",
       "3    AM   4001667   4063614   4080611   4048630\n",
       "4    BA  15276566  15344447  14812617  15144543"
      ]
     },
     "execution_count": 37,
     "metadata": {},
     "output_type": "execute_result"
    }
   ],
   "source": [
    "population['mean_pop'] = population.mean(axis = 1)\n",
    "population['mean_pop'] = population['mean_pop'].apply(lambda x : int(x)) \n",
    "population.head()"
   ]
  },
  {
   "cell_type": "markdown",
   "id": "2332e430",
   "metadata": {},
   "source": [
    "## Merge population dataset with final_dataframe"
   ]
  },
  {
   "cell_type": "code",
   "execution_count": 38,
   "id": "ba53eff8",
   "metadata": {
    "scrolled": true
   },
   "outputs": [],
   "source": [
    "final_dataset = pricing_group.merge(population.loc[:,['state', 'mean_pop']], how = 'left', on = 'state')\n",
    "final_dataset.rename(columns = {'price' : 'total_sales_price'}, inplace = True)"
   ]
  },
  {
   "cell_type": "code",
   "execution_count": 43,
   "id": "f33ddf57",
   "metadata": {},
   "outputs": [
    {
     "data": {
      "text/html": [
       "<div>\n",
       "<style scoped>\n",
       "    .dataframe tbody tr th:only-of-type {\n",
       "        vertical-align: middle;\n",
       "    }\n",
       "\n",
       "    .dataframe tbody tr th {\n",
       "        vertical-align: top;\n",
       "    }\n",
       "\n",
       "    .dataframe thead th {\n",
       "        text-align: right;\n",
       "    }\n",
       "</style>\n",
       "<table border=\"1\" class=\"dataframe\">\n",
       "  <thead>\n",
       "    <tr style=\"text-align: right;\">\n",
       "      <th></th>\n",
       "      <th>state</th>\n",
       "      <th>product_category_name</th>\n",
       "      <th>total_sales_price</th>\n",
       "      <th>mean_pop</th>\n",
       "    </tr>\n",
       "  </thead>\n",
       "  <tbody>\n",
       "    <tr>\n",
       "      <th>0</th>\n",
       "      <td>AC</td>\n",
       "      <td>artigos_de_natal</td>\n",
       "      <td>69.90</td>\n",
       "      <td>838523</td>\n",
       "    </tr>\n",
       "    <tr>\n",
       "      <th>1</th>\n",
       "      <td>AC</td>\n",
       "      <td>automotivo</td>\n",
       "      <td>540.98</td>\n",
       "      <td>838523</td>\n",
       "    </tr>\n",
       "    <tr>\n",
       "      <th>2</th>\n",
       "      <td>AC</td>\n",
       "      <td>bebes</td>\n",
       "      <td>697.84</td>\n",
       "      <td>838523</td>\n",
       "    </tr>\n",
       "    <tr>\n",
       "      <th>3</th>\n",
       "      <td>AC</td>\n",
       "      <td>beleza_saude</td>\n",
       "      <td>1386.58</td>\n",
       "      <td>838523</td>\n",
       "    </tr>\n",
       "    <tr>\n",
       "      <th>4</th>\n",
       "      <td>AC</td>\n",
       "      <td>brinquedos</td>\n",
       "      <td>234.79</td>\n",
       "      <td>838523</td>\n",
       "    </tr>\n",
       "    <tr>\n",
       "      <th>...</th>\n",
       "      <td>...</td>\n",
       "      <td>...</td>\n",
       "      <td>...</td>\n",
       "      <td>...</td>\n",
       "    </tr>\n",
       "    <tr>\n",
       "      <th>1357</th>\n",
       "      <td>TO</td>\n",
       "      <td>portateis_casa_forno_e_cafe</td>\n",
       "      <td>1999.00</td>\n",
       "      <td>1546108</td>\n",
       "    </tr>\n",
       "    <tr>\n",
       "      <th>1358</th>\n",
       "      <td>TO</td>\n",
       "      <td>relogios_presentes</td>\n",
       "      <td>4920.89</td>\n",
       "      <td>1546108</td>\n",
       "    </tr>\n",
       "    <tr>\n",
       "      <th>1359</th>\n",
       "      <td>TO</td>\n",
       "      <td>telefonia</td>\n",
       "      <td>1268.12</td>\n",
       "      <td>1546108</td>\n",
       "    </tr>\n",
       "    <tr>\n",
       "      <th>1360</th>\n",
       "      <td>TO</td>\n",
       "      <td>telefonia_fixa</td>\n",
       "      <td>1390.99</td>\n",
       "      <td>1546108</td>\n",
       "    </tr>\n",
       "    <tr>\n",
       "      <th>1361</th>\n",
       "      <td>TO</td>\n",
       "      <td>utilidades_domesticas</td>\n",
       "      <td>926.17</td>\n",
       "      <td>1546108</td>\n",
       "    </tr>\n",
       "  </tbody>\n",
       "</table>\n",
       "<p>1362 rows × 4 columns</p>\n",
       "</div>"
      ],
      "text/plain": [
       "     state        product_category_name  total_sales_price  mean_pop\n",
       "0       AC             artigos_de_natal              69.90    838523\n",
       "1       AC                   automotivo             540.98    838523\n",
       "2       AC                        bebes             697.84    838523\n",
       "3       AC                 beleza_saude            1386.58    838523\n",
       "4       AC                   brinquedos             234.79    838523\n",
       "...    ...                          ...                ...       ...\n",
       "1357    TO  portateis_casa_forno_e_cafe            1999.00   1546108\n",
       "1358    TO           relogios_presentes            4920.89   1546108\n",
       "1359    TO                    telefonia            1268.12   1546108\n",
       "1360    TO               telefonia_fixa            1390.99   1546108\n",
       "1361    TO        utilidades_domesticas             926.17   1546108\n",
       "\n",
       "[1362 rows x 4 columns]"
      ]
     },
     "execution_count": 43,
     "metadata": {},
     "output_type": "execute_result"
    }
   ],
   "source": [
    "final_dataset"
   ]
  },
  {
   "cell_type": "markdown",
   "id": "dd1ffb6a",
   "metadata": {},
   "source": [
    "## Columns\n",
    "\n",
    "* **state**: customer state\n",
    "* **product_category_name**\n",
    "* **total_sales_price**: sum of prices of all products sold with the respective category\n",
    "        \n",
    "        Ex: product_category_name = brinquedos\n",
    "        state = SP\n",
    "        Number of \"brinquedos\" orders = 50\n",
    "        sum all 50 orders for this category\n",
    "* **mean_pop**: mean population for each state between 2016 and 2018"
   ]
  },
  {
   "cell_type": "code",
   "execution_count": 44,
   "id": "d8224007",
   "metadata": {},
   "outputs": [
    {
     "data": {
      "text/html": [
       "<div>\n",
       "<style scoped>\n",
       "    .dataframe tbody tr th:only-of-type {\n",
       "        vertical-align: middle;\n",
       "    }\n",
       "\n",
       "    .dataframe tbody tr th {\n",
       "        vertical-align: top;\n",
       "    }\n",
       "\n",
       "    .dataframe thead th {\n",
       "        text-align: right;\n",
       "    }\n",
       "</style>\n",
       "<table border=\"1\" class=\"dataframe\">\n",
       "  <thead>\n",
       "    <tr style=\"text-align: right;\">\n",
       "      <th></th>\n",
       "      <th>state</th>\n",
       "      <th>product_category_name</th>\n",
       "      <th>total_sales_price</th>\n",
       "      <th>mean_pop</th>\n",
       "    </tr>\n",
       "  </thead>\n",
       "  <tbody>\n",
       "    <tr>\n",
       "      <th>1265</th>\n",
       "      <td>SP</td>\n",
       "      <td>cama_mesa_banho</td>\n",
       "      <td>479765.90</td>\n",
       "      <td>45127833</td>\n",
       "    </tr>\n",
       "    <tr>\n",
       "      <th>1263</th>\n",
       "      <td>SP</td>\n",
       "      <td>beleza_saude</td>\n",
       "      <td>457689.70</td>\n",
       "      <td>45127833</td>\n",
       "    </tr>\n",
       "    <tr>\n",
       "      <th>1318</th>\n",
       "      <td>SP</td>\n",
       "      <td>relogios_presentes</td>\n",
       "      <td>422756.88</td>\n",
       "      <td>45127833</td>\n",
       "    </tr>\n",
       "    <tr>\n",
       "      <th>1284</th>\n",
       "      <td>SP</td>\n",
       "      <td>esporte_lazer</td>\n",
       "      <td>378031.19</td>\n",
       "      <td>45127833</td>\n",
       "    </tr>\n",
       "    <tr>\n",
       "      <th>1296</th>\n",
       "      <td>SP</td>\n",
       "      <td>informatica_acessorios</td>\n",
       "      <td>342892.64</td>\n",
       "      <td>45127833</td>\n",
       "    </tr>\n",
       "    <tr>\n",
       "      <th>1306</th>\n",
       "      <td>SP</td>\n",
       "      <td>moveis_decoracao</td>\n",
       "      <td>287903.68</td>\n",
       "      <td>45127833</td>\n",
       "    </tr>\n",
       "    <tr>\n",
       "      <th>1323</th>\n",
       "      <td>SP</td>\n",
       "      <td>utilidades_domesticas</td>\n",
       "      <td>273615.91</td>\n",
       "      <td>45127833</td>\n",
       "    </tr>\n",
       "    <tr>\n",
       "      <th>1278</th>\n",
       "      <td>SP</td>\n",
       "      <td>cool_stuff</td>\n",
       "      <td>212061.52</td>\n",
       "      <td>45127833</td>\n",
       "    </tr>\n",
       "    <tr>\n",
       "      <th>1260</th>\n",
       "      <td>SP</td>\n",
       "      <td>automotivo</td>\n",
       "      <td>210203.68</td>\n",
       "      <td>45127833</td>\n",
       "    </tr>\n",
       "    <tr>\n",
       "      <th>1264</th>\n",
       "      <td>SP</td>\n",
       "      <td>brinquedos</td>\n",
       "      <td>181606.26</td>\n",
       "      <td>45127833</td>\n",
       "    </tr>\n",
       "    <tr>\n",
       "      <th>972</th>\n",
       "      <td>RJ</td>\n",
       "      <td>relogios_presentes</td>\n",
       "      <td>176446.32</td>\n",
       "      <td>12434319</td>\n",
       "    </tr>\n",
       "    <tr>\n",
       "      <th>1314</th>\n",
       "      <td>SP</td>\n",
       "      <td>perfumaria</td>\n",
       "      <td>163226.97</td>\n",
       "      <td>45127833</td>\n",
       "    </tr>\n",
       "    <tr>\n",
       "      <th>478</th>\n",
       "      <td>MG</td>\n",
       "      <td>beleza_saude</td>\n",
       "      <td>154739.69</td>\n",
       "      <td>21052586</td>\n",
       "    </tr>\n",
       "    <tr>\n",
       "      <th>1261</th>\n",
       "      <td>SP</td>\n",
       "      <td>bebes</td>\n",
       "      <td>154331.00</td>\n",
       "      <td>45127833</td>\n",
       "    </tr>\n",
       "    <tr>\n",
       "      <th>1292</th>\n",
       "      <td>SP</td>\n",
       "      <td>ferramentas_jardim</td>\n",
       "      <td>150421.60</td>\n",
       "      <td>45127833</td>\n",
       "    </tr>\n",
       "    <tr>\n",
       "      <th>920</th>\n",
       "      <td>RJ</td>\n",
       "      <td>cama_mesa_banho</td>\n",
       "      <td>146918.42</td>\n",
       "      <td>12434319</td>\n",
       "    </tr>\n",
       "    <tr>\n",
       "      <th>918</th>\n",
       "      <td>RJ</td>\n",
       "      <td>beleza_saude</td>\n",
       "      <td>141020.24</td>\n",
       "      <td>12434319</td>\n",
       "    </tr>\n",
       "    <tr>\n",
       "      <th>480</th>\n",
       "      <td>MG</td>\n",
       "      <td>cama_mesa_banho</td>\n",
       "      <td>131032.50</td>\n",
       "      <td>21052586</td>\n",
       "    </tr>\n",
       "    <tr>\n",
       "      <th>531</th>\n",
       "      <td>MG</td>\n",
       "      <td>relogios_presentes</td>\n",
       "      <td>122007.43</td>\n",
       "      <td>21052586</td>\n",
       "    </tr>\n",
       "    <tr>\n",
       "      <th>939</th>\n",
       "      <td>RJ</td>\n",
       "      <td>esporte_lazer</td>\n",
       "      <td>121964.62</td>\n",
       "      <td>12434319</td>\n",
       "    </tr>\n",
       "  </tbody>\n",
       "</table>\n",
       "</div>"
      ],
      "text/plain": [
       "     state   product_category_name  total_sales_price  mean_pop\n",
       "1265    SP         cama_mesa_banho          479765.90  45127833\n",
       "1263    SP            beleza_saude          457689.70  45127833\n",
       "1318    SP      relogios_presentes          422756.88  45127833\n",
       "1284    SP           esporte_lazer          378031.19  45127833\n",
       "1296    SP  informatica_acessorios          342892.64  45127833\n",
       "1306    SP        moveis_decoracao          287903.68  45127833\n",
       "1323    SP   utilidades_domesticas          273615.91  45127833\n",
       "1278    SP              cool_stuff          212061.52  45127833\n",
       "1260    SP              automotivo          210203.68  45127833\n",
       "1264    SP              brinquedos          181606.26  45127833\n",
       "972     RJ      relogios_presentes          176446.32  12434319\n",
       "1314    SP              perfumaria          163226.97  45127833\n",
       "478     MG            beleza_saude          154739.69  21052586\n",
       "1261    SP                   bebes          154331.00  45127833\n",
       "1292    SP      ferramentas_jardim          150421.60  45127833\n",
       "920     RJ         cama_mesa_banho          146918.42  12434319\n",
       "918     RJ            beleza_saude          141020.24  12434319\n",
       "480     MG         cama_mesa_banho          131032.50  21052586\n",
       "531     MG      relogios_presentes          122007.43  21052586\n",
       "939     RJ           esporte_lazer          121964.62  12434319"
      ]
     },
     "execution_count": 44,
     "metadata": {},
     "output_type": "execute_result"
    }
   ],
   "source": [
    "final_dataset.sort_values('total_sales_price', ascending = False).head(20)"
   ]
  },
  {
   "cell_type": "markdown",
   "id": "f98277cb",
   "metadata": {},
   "source": [
    "___"
   ]
  },
  {
   "cell_type": "markdown",
   "id": "a16e3c99",
   "metadata": {},
   "source": [
    "___"
   ]
  },
  {
   "cell_type": "markdown",
   "id": "1ca53239",
   "metadata": {},
   "source": [
    "# Tests with networkx library"
   ]
  },
  {
   "cell_type": "code",
   "execution_count": null,
   "id": "10dfc3d8",
   "metadata": {},
   "outputs": [],
   "source": [
    "import networkx as nx\n",
    "from networkx.algorithms import bipartite"
   ]
  },
  {
   "cell_type": "markdown",
   "id": "c86567ab",
   "metadata": {},
   "source": [
    "## UNWEIGHTED GRAPH"
   ]
  },
  {
   "cell_type": "code",
   "execution_count": null,
   "id": "9e85dd69",
   "metadata": {},
   "outputs": [],
   "source": [
    "# Initialize graph\n",
    "\n",
    "b = nx.DiGraph()"
   ]
  },
  {
   "cell_type": "code",
   "execution_count": null,
   "id": "0b3c746e",
   "metadata": {},
   "outputs": [],
   "source": [
    "# Adding nodes\n",
    "\n",
    "b.add_nodes_from(orders_final_2['product_category_name'], bipartite= 1)\n",
    "b.add_nodes_from(orders_final_2['customer_state'], bipartite= 0)"
   ]
  },
  {
   "cell_type": "code",
   "execution_count": null,
   "id": "8dc5f701",
   "metadata": {},
   "outputs": [],
   "source": [
    "# Adding edges\n",
    "\n",
    "edges = list(orders_final_2.loc[: , ['product_category_name', 'customer_state']].apply(tuple, axis = 1))\n",
    "\n",
    "for i in edges:\n",
    "    b.add_edge(i[0], i[1])"
   ]
  },
  {
   "cell_type": "code",
   "execution_count": null,
   "id": "4e9892f8",
   "metadata": {},
   "outputs": [],
   "source": [
    "# Plotting bipartite network\n",
    "\n",
    "import matplotlib.pyplot as plt"
   ]
  },
  {
   "cell_type": "code",
   "execution_count": null,
   "id": "6b05d7a2",
   "metadata": {},
   "outputs": [],
   "source": [
    "# Specify nodes on left or top\n",
    "\n",
    "#left_or_top = orders_final_2['customer_state'].unique()\n",
    "\n",
    "# create bipartite layout\n",
    "\n",
    "#pos = nx.bipartite_layout(b, left_or_top)\n",
    "\n",
    "# pass the layout to nx.draw\n",
    "\n",
    "#nx.draw(b,\n",
    "#       pos,\n",
    "#       node_color = '#A0CBE2', \n",
    "#       edge_color = '#00bb5e', \n",
    "#       width = 1,\n",
    "#       edge_cmap = plt.cm.Blues, with_labels = True\n",
    "#       )"
   ]
  },
  {
   "cell_type": "markdown",
   "id": "211f5a9a",
   "metadata": {},
   "source": [
    "## WEIGHTED GRAPH BASED ON PRODUCT CATEGORY QUANTITIES PER STATE"
   ]
  },
  {
   "cell_type": "code",
   "execution_count": null,
   "id": "4519364d",
   "metadata": {
    "scrolled": true
   },
   "outputs": [],
   "source": [
    "group = orders_final_2.groupby('customer_state')['product_category_name'].value_counts().to_frame()\n",
    "group.rename(columns = {'product_category_name': 'weight'}, inplace = True)"
   ]
  },
  {
   "cell_type": "code",
   "execution_count": null,
   "id": "c49bd013",
   "metadata": {},
   "outputs": [],
   "source": [
    "group"
   ]
  },
  {
   "cell_type": "code",
   "execution_count": null,
   "id": "133f0362",
   "metadata": {
    "scrolled": true
   },
   "outputs": [],
   "source": [
    "group.reset_index(inplace = True)\n",
    "group.head()"
   ]
  },
  {
   "cell_type": "code",
   "execution_count": null,
   "id": "7517a6bd",
   "metadata": {},
   "outputs": [],
   "source": [
    "group = group.head(10)\n",
    "group"
   ]
  },
  {
   "cell_type": "code",
   "execution_count": null,
   "id": "01f17dad",
   "metadata": {},
   "outputs": [],
   "source": [
    "## Creating and plotting the graph\n",
    "\n",
    "c = nx.DiGraph()\n",
    "\n",
    "# Adding nodes\n",
    "\n",
    "c.add_nodes_from(group['product_category_name'], bipartite= 0)\n",
    "c.add_nodes_from(group['customer_state'], bipartite= 1)\n",
    "\n",
    "\n",
    "# Adding edges\n",
    "\n",
    "edges_c = list(group.loc[: , ['customer_state','product_category_name','weight']].apply(tuple, axis = 1))\n",
    "print(edges_c)\n",
    "for i in edges_c:\n",
    "    c.add_edge(i[0], i[1], weight = i[2])\n",
    "    \n",
    "\n"
   ]
  },
  {
   "cell_type": "code",
   "execution_count": null,
   "id": "26d2b899",
   "metadata": {},
   "outputs": [],
   "source": [
    "# Specify nodes on left or top\n",
    "\n",
    "left_or_top_c = group['customer_state'].unique()\n",
    "\n",
    "# create bipartite layout\n",
    "\n",
    "pos_c = nx.bipartite_layout(c, left_or_top_c) \n",
    "\n",
    "# pass the layout to nx.draw\n",
    "plt.figure(1,figsize=(15,5))\n",
    "\n",
    "nx.draw(c,\n",
    "       pos_c,\n",
    "       node_color = '#A0CBE2', \n",
    "       edge_color = '#00bb5e', \n",
    "       width = 1,\n",
    "       edge_cmap = plt.cm.Blues, \n",
    "       with_labels = True\n",
    "       )\n",
    "\n",
    "# getting the edge labels\n",
    "\n",
    "edge_labels = nx.get_edge_attributes(c,'weight')\n",
    " \n",
    "nx.draw_networkx_edge_labels(c, \n",
    "                             pos_c, \n",
    "                             edge_labels = edge_labels);"
   ]
  },
  {
   "cell_type": "code",
   "execution_count": null,
   "id": "9c3230d7",
   "metadata": {},
   "outputs": [],
   "source": []
  }
 ],
 "metadata": {
  "kernelspec": {
   "display_name": "Python 3 (ipykernel)",
   "language": "python",
   "name": "python3"
  },
  "language_info": {
   "codemirror_mode": {
    "name": "ipython",
    "version": 3
   },
   "file_extension": ".py",
   "mimetype": "text/x-python",
   "name": "python",
   "nbconvert_exporter": "python",
   "pygments_lexer": "ipython3",
   "version": "3.9.12"
  }
 },
 "nbformat": 4,
 "nbformat_minor": 5
}
